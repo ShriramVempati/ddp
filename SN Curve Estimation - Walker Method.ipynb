{
 "cells": [
  {
   "cell_type": "raw",
   "metadata": {},
   "source": [
    "DUAL DEGREE PROJECT\n",
    "\n",
    "CATERPILLAR INDIA PVT LTD and \n",
    "INDIAN INSTITUTE OF TECHNOLOG MADRAS\n",
    "\n",
    "\n",
    "Thesis by\n",
    "VEMPATI SHRIRAM ( ME15B145 )\n",
    "Dept. of Mechanical Engineering, IIT Madras\n",
    "me15b145@smail.iitm.ac.in / vempatishriram@gmail.com"
   ]
  },
  {
   "cell_type": "code",
   "execution_count": 112,
   "metadata": {},
   "outputs": [],
   "source": [
    "import numpy as np\n",
    "import scipy as sc\n",
    "import pandas as pd\n",
    "import matplotlib.pyplot as plt\n",
    "from sklearn import linear_model\n",
    "import scipy.optimize\n",
    "from scipy.optimize import root\n",
    "from scipy.optimize import fsolve"
   ]
  },
  {
   "cell_type": "markdown",
   "metadata": {},
   "source": [
    "## SN Curve Prediction - Reverse Engineering"
   ]
  },
  {
   "cell_type": "markdown",
   "metadata": {},
   "source": [
    "### Data Generation from an SN Curve"
   ]
  },
  {
   "cell_type": "raw",
   "metadata": {},
   "source": [
    "NS^m = k"
   ]
  },
  {
   "cell_type": "raw",
   "metadata": {},
   "source": [
    "Let S_100 = 250MPa\n",
    "and S_uts = 340MPa\n",
    "\n",
    "Six cycles used here are :\n",
    "\n",
    "40-100-40\n",
    "70-100-70\n",
    "40-80-40\n",
    "33-66-33\n",
    "33-83-33\n",
    "58-83-58"
   ]
  },
  {
   "cell_type": "code",
   "execution_count": 113,
   "metadata": {},
   "outputs": [],
   "source": [
    "s_100 = 210.0\n",
    "S_100 = s_100**2 # Stress Parameter"
   ]
  },
  {
   "cell_type": "markdown",
   "metadata": {},
   "source": [
    "### Reverse Engineering the process to estimate S_uts (Ultimate Tensile Strength)"
   ]
  },
  {
   "cell_type": "raw",
   "metadata": {},
   "source": [
    "Let's take four points from the above data and try to estimate the UTS of the material."
   ]
  },
  {
   "cell_type": "code",
   "execution_count": 128,
   "metadata": {},
   "outputs": [],
   "source": [
    "a_ar = np.array([0.40, 0.70, 0.40, 0.333])**2\n",
    "b_ar = np.array([1.00, 1.00, 0.80, 0.666])**2\n",
    "\n",
    "S_max = b_ar*S_100\n",
    "S_min = a_ar*S_100\n",
    "\n",
    "R = np.divide(S_min,S_max)\n",
    "\n",
    "N  = [131300, 915400, 8664200, 173210400 ]"
   ]
  },
  {
   "cell_type": "code",
   "execution_count": 129,
   "metadata": {},
   "outputs": [
    {
     "name": "stdout",
     "output_type": "stream",
     "text": [
      "[ 7056.     21609.      7056.      4890.2049]\n",
      "[44100.     44100.     28224.     19560.8196]\n"
     ]
    }
   ],
   "source": [
    "print(S_min)\n",
    "print(S_max)"
   ]
  },
  {
   "cell_type": "markdown",
   "metadata": {},
   "source": [
    "### Reverse Engineering the process to estimate m (slope of sn curve) and k in NS^m = k"
   ]
  },
  {
   "cell_type": "markdown",
   "metadata": {},
   "source": [
    "#### Multi Variable linear regression"
   ]
  },
  {
   "cell_type": "code",
   "execution_count": 130,
   "metadata": {},
   "outputs": [],
   "source": [
    "X_train = pd.DataFrame( {'x1':np.log(S_max),'x2':np.log( 0.5*(1-R)) } )\n",
    "Y_train  = pd.DataFrame( np.log(N))\n",
    "\n",
    "lm = linear_model.LinearRegression()\n",
    "model_w = lm.fit(X_train,Y_train)\n",
    "\n",
    "#print(X_train,Y_train)\n",
    "#print(lm.coef_)\n",
    "#print(lm.intercept_)"
   ]
  },
  {
   "cell_type": "code",
   "execution_count": 132,
   "metadata": {},
   "outputs": [
    {
     "data": {
      "text/plain": [
       "0    0.011241\n",
       "1    0.003303\n",
       "2   -0.032248\n",
       "3    0.017703\n",
       "dtype: float64"
      ]
     },
     "execution_count": 132,
     "metadata": {},
     "output_type": "execute_result"
    }
   ],
   "source": [
    "a1 = lm.coef_[0][0]*X_train['x1']\n",
    "a2 = lm.coef_[0][1]*X_train['x2'] \n",
    "c  = lm.intercept_\n",
    "a1+a2+c-Y_train[0]"
   ]
  },
  {
   "cell_type": "code",
   "execution_count": 133,
   "metadata": {},
   "outputs": [],
   "source": [
    "#slope\n",
    "m = -lm.coef_[0][0]\n",
    "# gamma\n",
    "g = lm.coef_[0][1]/lm.coef_[0][0]\n",
    "# k\n",
    "k = np.e**lm.intercept_[0]"
   ]
  },
  {
   "cell_type": "code",
   "execution_count": 134,
   "metadata": {},
   "outputs": [
    {
     "name": "stdout",
     "output_type": "stream",
     "text": [
      "8.305760964697305 0.4666275775105438 1.73209494503752e+42\n"
     ]
    }
   ],
   "source": [
    "print(m,g,k)"
   ]
  },
  {
   "cell_type": "markdown",
   "metadata": {},
   "source": [
    "### Verification of results"
   ]
  },
  {
   "cell_type": "code",
   "execution_count": 135,
   "metadata": {},
   "outputs": [],
   "source": [
    "a_ar_test = np.array([0.3333, 0.5833])**2\n",
    "b_ar_test = np.array([0.8333, 0.8333])**2\n",
    "\n",
    "N_test = np.array([2403300, 37737400])"
   ]
  },
  {
   "cell_type": "code",
   "execution_count": 168,
   "metadata": {},
   "outputs": [
    {
     "name": "stdout",
     "output_type": "stream",
     "text": [
      "[1.32784259e+05 9.18428744e+05 8.38925797e+06 1.76304118e+08\n",
      " 2.74610857e+06 1.89932639e+07] [131300, 915400, 8664200, 173210400, 2403300, 37737400]\n",
      "[  1.13   0.33  -3.17   1.79  14.26 -49.67]\n"
     ]
    }
   ],
   "source": [
    "a_ar_test = np.array([0.40, 0.70, 0.40, 0.333, 0.3333, 0.5833])**2\n",
    "b_ar_test = np.array([1.00, 1.00, 0.80, 0.666, 0.8333, 0.8333])**2\n",
    "\n",
    "N_test  = [131300, 915400, 8664200, 173210400, 2403300, 37737400]\n",
    "\n",
    "S_min_test = a_ar_test*S_100\n",
    "S_max_test = b_ar_test*S_100\n",
    "\n",
    "R_test = np.divide(S_min_test, S_max_test)\n",
    "\n",
    "S_e_test = S_max_test*(0.5*(1-R_test))**g\n",
    "\n",
    "\n",
    "N_pred = k/S_e_test**m\n",
    "\n",
    "print(N_pred,N_test)\n",
    "error = np.round( 100*(N_pred/N_test -1),2)\n",
    "print(error)"
   ]
  },
  {
   "cell_type": "code",
   "execution_count": 165,
   "metadata": {},
   "outputs": [
    {
     "data": {
      "text/plain": [
       "array([29419.56984987, 23308.4756216 , 17858.69851942, 12377.08262575,\n",
       "       20428.84034023, 16185.39530623])"
      ]
     },
     "execution_count": 165,
     "metadata": {},
     "output_type": "execute_result"
    }
   ],
   "source": [
    "S_e_test"
   ]
  },
  {
   "cell_type": "markdown",
   "metadata": {},
   "source": [
    "### Plots "
   ]
  },
  {
   "cell_type": "code",
   "execution_count": 220,
   "metadata": {},
   "outputs": [
    {
     "data": {
      "image/png": "[encoded data removed]",
      "text/plain": [
       "<Figure size 1080x576 with 1 Axes>"
      ]
     },
     "metadata": {
      "needs_background": "light"
     },
     "output_type": "display_data"
    }
   ],
   "source": [
    "S_plot = range(12000,32000,1000)\n",
    "N_plot = k/S_plot**m\n",
    "\n",
    "fig= plt.figure(figsize=(15,8))\n",
    "plt.plot(N_plot,S_plot,label= \"Predicted SN Curve\")\n",
    "plt.scatter(N_test,S_e_test,label = \"generic cycles from supplier\")\n",
    "plt.scatter(N_pred,S_e_test,label = \"Prediced Life\")\n",
    "plt.xlabel('Life in cycles')\n",
    "plt.ylabel('Stress amplitude of the cycle at zero mean stress')\n",
    "plt.legend()\n",
    "\n",
    "plt.text( N_pred[0],1.05*S_e_test[0],'percentage error = ',fontsize = 15)\n",
    "plt.text( 350*N_pred[0],1.05*S_e_test[0],error[0],fontsize = 15)\n",
    "plt.title('Predicted Life of Turbocharger compressor wheel at 100cph ')\n",
    "\n",
    "for i in range(1,6):\n",
    "    plt.text(N_pred[i],1.05*S_e_test[i],error[i],fontsize = 15)\n",
    "\n",
    "plt.show()"
   ]
  }
 ],
 "metadata": {
  "kernelspec": {
   "display_name": "Python 3",
   "language": "python",
   "name": "python3"
  },
  "language_info": {
   "codemirror_mode": {
    "name": "ipython",
    "version": 3
   },
   "file_extension": ".py",
   "mimetype": "text/x-python",
   "name": "python",
   "nbconvert_exporter": "python",
   "pygments_lexer": "ipython3",
   "version": "3.7.6"
  }
 },
 "nbformat": 4,
 "nbformat_minor": 4
}
