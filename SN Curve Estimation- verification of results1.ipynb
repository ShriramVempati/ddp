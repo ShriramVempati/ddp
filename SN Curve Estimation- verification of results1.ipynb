{
 "cells": [
  {
   "cell_type": "raw",
   "metadata": {},
   "source": [
    "DUAL DEGREE PROJECT\n",
    "\n",
    "CATERPILLAR INDIA PVT LTD and \n",
    "INDIAN INSTITUTE OF TECHNOLOG MADRAS\n",
    "\n",
    "\n",
    "Thesis by\n",
    "VEMPATI SHRIRAM ( ME15B145 )\n",
    "Dept. of Mechanical Engineering, IIT Madras\n",
    "me15b145@smail.iitm.ac.in / vempatishriram@gmail.com"
   ]
  },
  {
   "cell_type": "code",
   "execution_count": 1,
   "metadata": {},
   "outputs": [],
   "source": [
    "import numpy as np\n",
    "import scipy as sc\n",
    "import pandas as pd\n",
    "import matplotlib.pyplot as plt\n",
    "import scipy.optimize\n",
    "from scipy.optimize import root\n",
    "from scipy.optimize import fsolve"
   ]
  },
  {
   "cell_type": "markdown",
   "metadata": {},
   "source": [
    "## SN Curve Prediction - Reverse Engineering"
   ]
  },
  {
   "cell_type": "markdown",
   "metadata": {},
   "source": [
    "### Data Generation from an SN Curve"
   ]
  },
  {
   "cell_type": "raw",
   "metadata": {},
   "source": [
    "NS^m = k"
   ]
  },
  {
   "cell_type": "raw",
   "metadata": {},
   "source": [
    "Let S_100 = 250MPa\n",
    "and S_uts = 340MPa\n",
    "\n",
    "Six cycles used here are :\n",
    "\n",
    "40-100-40\n",
    "70-100-70\n",
    "40-80-40\n",
    "33-66-33\n",
    "33-83-33\n",
    "58-83-58"
   ]
  },
  {
   "cell_type": "code",
   "execution_count": 36,
   "metadata": {},
   "outputs": [],
   "source": [
    "def S_e(a,b, S_uts, S_100):\n",
    "    S_a  = 0.5*(b - a)*S_100\n",
    "    S_m  = 0.5*(b + a)*S_100\n",
    "    S_e  = S_a/(1-S_m/S_uts)\n",
    "    \n",
    "    return S_e"
   ]
  },
  {
   "cell_type": "code",
   "execution_count": 3,
   "metadata": {},
   "outputs": [],
   "source": [
    "s_100 = 210\n",
    "S_100 = s_100**2 # Stress Parameter"
   ]
  },
  {
   "cell_type": "markdown",
   "metadata": {},
   "source": [
    "### Reverse Engineering the process to estimate S_uts (Ultimate Tensile Strength)"
   ]
  },
  {
   "cell_type": "raw",
   "metadata": {},
   "source": [
    "Let's take four points from the above data and try to estimate the UTS of the material."
   ]
  },
  {
   "cell_type": "code",
   "execution_count": 75,
   "metadata": {},
   "outputs": [],
   "source": [
    "a_ar = np.array([0.40, 0.70, 0.40, 0.33])**2\n",
    "b_ar = np.array([1.00, 1.00, 0.80, 0.66])**2\n",
    "\n",
    "N  = [131300, 915400, 8664200, 173210400 ]\n",
    "l = len(N)\n",
    "\n",
    "\n",
    "for i in range(l):\n",
    "    Sa_temp = 0.5*(b_ar[i] - a_ar[i])*S_100\n",
    "    Sm_temp = 0.5*(b_ar[i] + a_ar[i])*S_100\n",
    "    Sa_ar = np.append(Sa_ar,Sa_temp)\n",
    "    Sm_ar = np.append(Sm_ar,Sm_temp)"
   ]
  },
  {
   "cell_type": "code",
   "execution_count": 78,
   "metadata": {},
   "outputs": [],
   "source": [
    "a_ar = np.array([0.40, 0.70, 0.40, 0.33, 0.3333, 0.5833])**2\n",
    "b_ar = np.array([1.00, 1.00, 0.80, 0.66, 0.8333, 0.8333])**2\n",
    "\n",
    "N = np.array([131300, 915400, 8664200, 173210400, 2403300, 37737400])\n",
    "l = len(N)\n",
    "\n",
    "Sa_ar = np.array([])\n",
    "Sm_ar = np.array([])\n",
    "\n",
    "for i in range(l):\n",
    "    Sa_temp = 0.5*(b_ar[i] - a_ar[i])*S_100\n",
    "    Sm_temp = 0.5*(b_ar[i] + a_ar[i])*S_100\n",
    "    Sa_ar = np.append(Sa_ar,Sa_temp)\n",
    "    Sm_ar = np.append(Sm_ar,Sm_temp)\n"
   ]
  },
  {
   "cell_type": "code",
   "execution_count": 14,
   "metadata": {},
   "outputs": [
    {
     "name": "stdout",
     "output_type": "stream",
     "text": [
      "[1.         1.         0.64       0.4356     0.69438889 0.69438889]\n",
      "[0.16       0.49       0.16       0.1089     0.11108889 0.34023889]\n"
     ]
    }
   ],
   "source": [
    "print(b_ar)\n",
    "print(a_ar)"
   ]
  },
  {
   "cell_type": "raw",
   "metadata": {},
   "source": [
    "Now we know \n",
    "m*log(Se) + log(N) = log(k)\n",
    "\n",
    "We have 4 points, so we take 4 combinations of 3 points each and calculate UTS of the material.\n",
    "\n",
    "Let \n",
    "\n",
    "a or c1 = log(N2/N1)/log(N3/N1)\n",
    "\n",
    "b or c2 = (Sa3^a)/(Sa2*Sa1^(a-1))\n",
    "\n",
    "c or c3 = (Sm3^a)/(Sm2*Sm1^(a-1))\n"
   ]
  },
  {
   "cell_type": "code",
   "execution_count": 80,
   "metadata": {},
   "outputs": [
    {
     "name": "stdout",
     "output_type": "stream",
     "text": [
      "0 1 2 72753.28380184698\n",
      "0 1 3 71276.13595518151\n",
      "0 1 4 75389.89622587996\n",
      "0 1 5 69360.8253660333\n",
      "0 2 3 102670.78717697812\n",
      "0 2 4 120116.52280885864\n",
      "0 2 5 94779.95782375366\n",
      "0 3 4 44100.0\n",
      "0 3 5 83316.53630753716\n",
      "0 4 5 102467.57326654078\n",
      "1 2 3 76976.85630222897\n",
      "1 2 4 44100.0\n",
      "1 2 5 81121.59139911016\n",
      "1 3 4 33637.1616042642\n",
      "1 3 5 44100.0\n",
      "1 4 5 79702.38694819155\n",
      "2 3 4 90827.62511565484\n",
      "2 3 5 44100.0\n",
      "2 4 5 86119.92395681769\n",
      "3 4 5 23582.15292721949\n",
      "44100 72024.96084930483\n"
     ]
    },
    {
     "name": "stderr",
     "output_type": "stream",
     "text": [
      "/home/shriram/anaconda3/lib/python3.7/site-packages/ipykernel_launcher.py:26: RuntimeWarning: invalid value encountered in power\n"
     ]
    }
   ],
   "source": [
    "S_uts_arr = np.array([])\n",
    "\n",
    "Sm_new = np.array([ 0,0,0])\n",
    "Sa_new = np.array([ 0,0,0 ])\n",
    "N_new  = np.array([0,0,0])\n",
    "\n",
    "for i in range(l-2):\n",
    "    Sm_new[0] = Sm_ar[i]\n",
    "    Sa_new[0] = Sa_ar[i]\n",
    "    N_new[0] = N[i]\n",
    "    for j in range(i+1,l-1):\n",
    "        Sm_new[1] = Sm_ar[j]\n",
    "        Sa_new[1] = Sa_ar[j]\n",
    "        N_new[1] = N[j]\n",
    "        for k in range(j+1,l):\n",
    "            Sm_new[2] = Sm_ar[k]\n",
    "            Sa_new[2] = Sa_ar[k]\n",
    "            N_new[2] = N[k]\n",
    "\n",
    "            c1 = np.around( np.log(N_new[1]/N_new[0])/np.log(N_new[2]/N_new[0]) , decimals = 4)\n",
    "\n",
    "            c2 = np.around( (Sa_new[2]**c1)/(Sa_new[1]*Sa_new[0]**(c1-1)) , decimals = 4)\n",
    "\n",
    "            c3 = np.around( (Sm_new[2]**c1)/(Sm_new[1]*Sm_new[0]**(c1-1)) , decimals = 4)\n",
    "            \n",
    "            r = root(lambda d: (d/Sm_new[2] -1)**c1 - (c2/c3)*(d/Sm_new[1] -1)*(d/Sm_new[0] -1)**(c1-1), S_100)\n",
    "\n",
    "            print(i,j,k,r.x[0])\n",
    "            \n",
    "            S_uts_arr = np.append(r.x[0],S_uts_arr)\n",
    "\n",
    "\n",
    "S_uts_est = np.mean(S_uts_arr)\n",
    "print(S_100, S_uts_est)"
   ]
  },
  {
   "cell_type": "markdown",
   "metadata": {},
   "source": [
    "### Reverse Engineering the process to estimate m (slope of sn curve)"
   ]
  },
  {
   "cell_type": "raw",
   "metadata": {},
   "source": [
    "m log(Se) + log(N) = log(k)\n",
    "\n",
    "Hence, \n",
    "\n",
    "m = (log(N2/N1))/(log(Se1/Se2))"
   ]
  },
  {
   "cell_type": "code",
   "execution_count": 136,
   "metadata": {},
   "outputs": [],
   "source": [
    "S_uts_est = 72300"
   ]
  },
  {
   "cell_type": "code",
   "execution_count": 137,
   "metadata": {},
   "outputs": [
    {
     "name": "stdout",
     "output_type": "stream",
     "text": [
      "6.08\n"
     ]
    }
   ],
   "source": [
    "m_est_ar = np.array([])\n",
    "\n",
    "for i in range(l-1):\n",
    "    \n",
    "    Se1 = S_e(a_ar[i], b_ar[i], S_uts_est, S_100)\n",
    "    N1 = N[i]\n",
    "    \n",
    "    for j in range(i+1,l,1):\n",
    "        \n",
    "            Se2 = S_e(a_ar[j], b_ar[j], S_uts_est, S_100)\n",
    "            N2 = N[j]\n",
    "            \n",
    "            m_temp = (np.log(N2/N1))/(np.log(Se1/Se2))\n",
    "            \n",
    "            m_est_ar = np.append(m_est_ar, m_temp)\n",
    "            \n",
    "m_est = np.round( np.mean(m_est_ar),2)     \n",
    "\n",
    "print(m_est)"
   ]
  },
  {
   "cell_type": "markdown",
   "metadata": {},
   "source": [
    "### Reverse Engineering the process to estimate k in NS^m = k"
   ]
  },
  {
   "cell_type": "code",
   "execution_count": 138,
   "metadata": {},
   "outputs": [
    {
     "name": "stdout",
     "output_type": "stream",
     "text": [
      "1.5232187691387314e+32\n"
     ]
    }
   ],
   "source": [
    "k_est_arr = np.array([])\n",
    "\n",
    "for i in range(l):\n",
    "    Se = S_e(a_ar[i], b_ar[i], S_uts_est, S_100)\n",
    "    k_temp = N[i]*(Se**m_est)\n",
    "    \n",
    "    k_est_arr = np.append(k_est_arr, k_temp)\n",
    "\n",
    "k_est = np.mean(k_est_arr)\n",
    "\n",
    "print(k_est)"
   ]
  },
  {
   "cell_type": "markdown",
   "metadata": {},
   "source": [
    "### Verification of results"
   ]
  },
  {
   "cell_type": "raw",
   "metadata": {},
   "source": [
    "We will use these two points to verify the results"
   ]
  },
  {
   "cell_type": "code",
   "execution_count": 139,
   "metadata": {},
   "outputs": [],
   "source": [
    "a_ver = np.array([0.40, 0.70, 0.40, 0.33, 0.3333, 0.5833])**2\n",
    "b_ver = np.array([1.00, 1.00, 0.80, 0.66, 0.8333, 0.8333])**2\n",
    "\n",
    "N_ver = np.array([131300, 915400, 8664200, 173210400, 2403300, 37737400])"
   ]
  },
  {
   "cell_type": "code",
   "execution_count": 140,
   "metadata": {},
   "outputs": [
    {
     "name": "stdout",
     "output_type": "stream",
     "text": [
      "[   131300    915400   8664200 173210400   2403300  37737400]\n",
      "[1.20878591e+05 8.97253381e+05 9.42674579e+06 1.77544450e+08\n",
      " 2.84343937e+06 3.27111513e+07]\n",
      "[ -7.93709733  -1.9823704    8.8011102    2.50218804  18.31395875\n",
      " -13.31901164]\n"
     ]
    }
   ],
   "source": [
    "N_pred = np.array([])\n",
    "Se_ver_arr = np.array([])\n",
    "\n",
    "for i in range(6):\n",
    "    Se_ver = S_e(a_ver[i], b_ver[i], S_uts_est, S_100)\n",
    "    Se_ver_arr = np.append(Se_ver_arr, Se_ver)\n",
    "    Sem = Se_ver**m_est\n",
    "    N_pred_temp = k_est/Sem\n",
    "    N_pred = np.append(N_pred,N_pred_temp)\n",
    "\n",
    "error = 100*(N_pred/N_ver-1)\n",
    "print(N_ver)\n",
    "print(N_pred)\n",
    "print(error)"
   ]
  },
  {
   "cell_type": "markdown",
   "metadata": {},
   "source": [
    "### Plots "
   ]
  },
  {
   "cell_type": "code",
   "execution_count": 141,
   "metadata": {},
   "outputs": [
    {
     "name": "stdout",
     "output_type": "stream",
     "text": [
      "[11.78524006 13.72711641 15.97471015 18.9700176  14.69235335 17.4461622 ]\n"
     ]
    }
   ],
   "source": [
    "print(np.log(N))"
   ]
  },
  {
   "cell_type": "code",
   "execution_count": 142,
   "metadata": {},
   "outputs": [
    {
     "data": {
      "text/plain": [
       "[<matplotlib.lines.Line2D at 0x7fc9ef904690>]"
      ]
     },
     "execution_count": 142,
     "metadata": {},
     "output_type": "execute_result"
    },
    {
     "data": {
      "image/png": "[encoded data removed]",
      "text/plain": [
       "<Figure size 432x288 with 1 Axes>"
      ]
     },
     "metadata": {
      "needs_background": "light"
     },
     "output_type": "display_data"
    }
   ],
   "source": [
    "Se_arr = np.array([])\n",
    "\n",
    "for i in range(l):\n",
    "    Se_temp = S_e(a_ar[i], b_ar[i], S_uts_est, S_100)\n",
    "    Se_arr = np.append(Se_arr, Se_temp)\n",
    "    \n",
    "logN_line = range(10,20,1)\n",
    "logS_line = (np.log(k_est) - logN_line)/m_est\n",
    "\n",
    "plt.scatter( np.log(N), np.log(Se_arr))\n",
    "#plt.scatter( np.log(N_ver), np.log(Se_ver_arr), marker = 'x'label = 'Ver' )\n",
    "plt.scatter( np.log(N_pred), np.log(Se_ver_arr),marker = 'x')\n",
    "plt.plot(logN_line,logS_line)"
   ]
  },
  {
   "cell_type": "code",
   "execution_count": null,
   "metadata": {},
   "outputs": [],
   "source": []
  }
 ],
 "metadata": {
  "kernelspec": {
   "display_name": "Python 3",
   "language": "python",
   "name": "python3"
  },
  "language_info": {
   "codemirror_mode": {
    "name": "ipython",
    "version": 3
   },
   "file_extension": ".py",
   "mimetype": "text/x-python",
   "name": "python",
   "nbconvert_exporter": "python",
   "pygments_lexer": "ipython3",
   "version": "3.7.6"
  }
 },
 "nbformat": 4,
 "nbformat_minor": 4
}
